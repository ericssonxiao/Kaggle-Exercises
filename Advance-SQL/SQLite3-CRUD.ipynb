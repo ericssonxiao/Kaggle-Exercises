{
 "cells": [
  {
   "cell_type": "code",
   "execution_count": 1,
   "id": "3fd2a3a0-5c97-4478-9408-b4d07c4a6a34",
   "metadata": {},
   "outputs": [],
   "source": [
    "# here are the steps to install the sqlite3 library in a Python virtual environment (venv) and use it to perform CRUD operations:\n",
    "# You should not need to install the sqlite3 module separately using pip for Python 3. \n",
    "# The sqlite3 module is part of the Python 3 standard library and comes pre-installed.\n",
    "import sqlite3"
   ]
  },
  {
   "cell_type": "code",
   "execution_count": 2,
   "id": "29a082c4-f212-4c67-bf06-36c145986585",
   "metadata": {},
   "outputs": [],
   "source": [
    "# Create a new SQLite database\n",
    "conn = sqlite3.connect('advsql.db')"
   ]
  },
  {
   "cell_type": "code",
   "execution_count": 3,
   "id": "bad6851e-50f4-4855-9109-394d180bc520",
   "metadata": {},
   "outputs": [],
   "source": [
    "# Create a cursor\n",
    "c = conn.cursor()"
   ]
  },
  {
   "cell_type": "code",
   "execution_count": 4,
   "id": "54ac389b-3fdb-411d-bd19-c20d71d885e3",
   "metadata": {},
   "outputs": [
    {
     "data": {
      "text/plain": [
       "<sqlite3.Cursor at 0x7fd06d3a3540>"
      ]
     },
     "execution_count": 4,
     "metadata": {},
     "output_type": "execute_result"
    }
   ],
   "source": [
    "# Create a table\n",
    "c.execute('''CREATE TABLE users\n",
    "(id INTEGER PRIMARY KEY, name TEXT, email TEXT)''')"
   ]
  },
  {
   "cell_type": "code",
   "execution_count": 5,
   "id": "b0dd2641-112c-454d-91a5-7d53df1b0deb",
   "metadata": {},
   "outputs": [],
   "source": [
    "# Perform CRUD operations\n",
    "# Insert one record in Table users\n",
    "c.execute(\"INSERT INTO users(name, email) VALUES ('John', 'john@example.com')\")\n",
    "conn.commit()"
   ]
  },
  {
   "cell_type": "code",
   "execution_count": 6,
   "id": "cee83445-eb17-4ed2-bc02-35713cd727b1",
   "metadata": {},
   "outputs": [
    {
     "name": "stdout",
     "output_type": "stream",
     "text": [
      "[(1, 'John', 'john@example.com')]\n"
     ]
    }
   ],
   "source": [
    "# select all of the records from Table Users\n",
    "c.execute(\"SELECT * FROM users\")\n",
    "print(c.fetchall())"
   ]
  },
  {
   "cell_type": "code",
   "execution_count": 7,
   "id": "f2c63701-7b31-419b-a3ca-be7b432bbf6e",
   "metadata": {},
   "outputs": [],
   "source": [
    "# Insert three records in Table users\n",
    "c.execute(\"INSERT INTO users(name, email) VALUES ('Jack','jack@gmail.com')\")\n",
    "c.execute(\"INSERT INTO users(name, email) VALUES ('Tom','tom@gmail.com')\")\n",
    "c.execute(\"INSERT INTO users(name, email) VALUES ('Lucy','lucy@gmail.com')\")\n",
    "conn.commit()"
   ]
  },
  {
   "cell_type": "code",
   "execution_count": 8,
   "id": "0f1a0725-3b4c-418d-81fc-2b92803bd248",
   "metadata": {},
   "outputs": [
    {
     "name": "stdout",
     "output_type": "stream",
     "text": [
      "[(1, 'John', 'john@example.com'), (2, 'Jack', 'jack@gmail.com'), (3, 'Tom', 'tom@gmail.com'), (4, 'Lucy', 'lucy@gmail.com')]\n"
     ]
    }
   ],
   "source": [
    "# select all of the records from Table Users\n",
    "c.execute(\"SELECT * FROM users\")\n",
    "print(c.fetchall())"
   ]
  },
  {
   "cell_type": "code",
   "execution_count": 9,
   "id": "20fe5842-3190-49d4-ba81-33b0a33e9cd3",
   "metadata": {},
   "outputs": [],
   "source": [
    "# Update data\n",
    "c.execute(\"UPDATE users SET email='newemail@gmail.com' WHERE id=1\")\n",
    "conn.commit()"
   ]
  },
  {
   "cell_type": "code",
   "execution_count": 10,
   "id": "58cbc01e-78f3-4fe2-bede-c4e9d360e3c9",
   "metadata": {},
   "outputs": [
    {
     "name": "stdout",
     "output_type": "stream",
     "text": [
      "[(1, 'John', 'newemail@gmail.com'), (2, 'Jack', 'jack@gmail.com'), (3, 'Tom', 'tom@gmail.com'), (4, 'Lucy', 'lucy@gmail.com')]\n"
     ]
    }
   ],
   "source": [
    "# select all of the records from Table Users\n",
    "c.execute(\"SELECT * FROM users\")\n",
    "print(c.fetchall())\n"
   ]
  },
  {
   "cell_type": "code",
   "execution_count": 11,
   "id": "bfd3e7e0-d370-4a27-b243-85e50a651feb",
   "metadata": {},
   "outputs": [],
   "source": [
    "# Delete one record with the id is 4\n",
    "c.execute(\"DELETE FROM users WHERE id=4\")\n",
    "conn.commit()"
   ]
  },
  {
   "cell_type": "code",
   "execution_count": 12,
   "id": "a416f1e2-a84f-4a9a-bffe-aacbeb34ae4f",
   "metadata": {},
   "outputs": [
    {
     "name": "stdout",
     "output_type": "stream",
     "text": [
      "[(1, 'John', 'newemail@gmail.com'), (2, 'Jack', 'jack@gmail.com'), (3, 'Tom', 'tom@gmail.com')]\n"
     ]
    }
   ],
   "source": [
    "# select all of the records from Table Users\n",
    "c.execute(\"SELECT * FROM users\")\n",
    "print(c.fetchall())"
   ]
  },
  {
   "cell_type": "code",
   "execution_count": 13,
   "id": "26cc7e19-a3d6-4191-aef8-b312e022a001",
   "metadata": {},
   "outputs": [],
   "source": [
    "# close the connection\n",
    "conn.close()"
   ]
  },
  {
   "cell_type": "code",
   "execution_count": null,
   "id": "97cfbfb9-8f6d-4587-8ada-d59cfb04eb1d",
   "metadata": {},
   "outputs": [],
   "source": [
    "# By following these steps, you can install the sqlite3 library in a Python virtual environment, \n",
    "# create a SQLite database file, define tables, and perform CRUD (Create, Read, Update, Delete) operations \n",
    "# on the data using Python code."
   ]
  },
  {
   "cell_type": "code",
   "execution_count": null,
   "id": "de07421d-e4a9-4a4c-9ef9-a58c5eefddfe",
   "metadata": {},
   "outputs": [],
   "source": []
  },
  {
   "cell_type": "code",
   "execution_count": null,
   "id": "b86dc011-cfec-408c-b81f-0d797b98a90e",
   "metadata": {},
   "outputs": [],
   "source": []
  },
  {
   "cell_type": "code",
   "execution_count": null,
   "id": "ede6fff0-2deb-4a58-80d4-89b84416a2cc",
   "metadata": {},
   "outputs": [],
   "source": []
  }
 ],
 "metadata": {
  "kernelspec": {
   "display_name": "Python 3 (ipykernel)",
   "language": "python",
   "name": "python3"
  },
  "language_info": {
   "codemirror_mode": {
    "name": "ipython",
    "version": 3
   },
   "file_extension": ".py",
   "mimetype": "text/x-python",
   "name": "python",
   "nbconvert_exporter": "python",
   "pygments_lexer": "ipython3",
   "version": "3.11.2"
  }
 },
 "nbformat": 4,
 "nbformat_minor": 5
}
